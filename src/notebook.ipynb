{
 "cells": [
  {
   "cell_type": "code",
   "execution_count": null,
   "metadata": {},
   "outputs": [],
   "source": [
    "using Pkg\n",
    "Pkg.activate(\".\")\n",
    "Pkg.instantiate()"
   ]
  },
  {
   "cell_type": "code",
   "execution_count": 3,
   "metadata": {},
   "outputs": [
    {
     "name": "stderr",
     "output_type": "stream",
     "text": [
      "\u001b[32m\u001b[1m   Resolving\u001b[22m\u001b[39m package versions...\n",
      "\u001b[32m\u001b[1m  No Changes\u001b[22m\u001b[39m to `~/.julia/environments/v1.11/Project.toml`\n",
      "\u001b[32m\u001b[1m  No Changes\u001b[22m\u001b[39m to `~/.julia/environments/v1.11/Manifest.toml`\n",
      "\u001b[32m\u001b[1m   Resolving\u001b[22m\u001b[39m package versions...\n",
      "\u001b[32m\u001b[1m  No Changes\u001b[22m\u001b[39m to `~/.julia/environments/v1.11/Project.toml`\n",
      "\u001b[32m\u001b[1m  No Changes\u001b[22m\u001b[39m to `~/.julia/environments/v1.11/Manifest.toml`\n",
      "\u001b[32m\u001b[1m   Resolving\u001b[22m\u001b[39m package versions...\n",
      "\u001b[32m\u001b[1m   Installed\u001b[22m\u001b[39m Coverage ────── v1.6.1\n",
      "\u001b[32m\u001b[1m   Installed\u001b[22m\u001b[39m CoverageTools ─ v1.3.2\n",
      "\u001b[32m\u001b[1m    Updating\u001b[22m\u001b[39m `~/.julia/environments/v1.11/Project.toml`\n",
      "  \u001b[90m[a2441757] \u001b[39m\u001b[92m+ Coverage v1.6.1\u001b[39m\n",
      "\u001b[32m\u001b[1m    Updating\u001b[22m\u001b[39m `~/.julia/environments/v1.11/Manifest.toml`\n",
      "  \u001b[90m[a2441757] \u001b[39m\u001b[92m+ Coverage v1.6.1\u001b[39m\n",
      "  \u001b[90m[c36e975a] \u001b[39m\u001b[92m+ CoverageTools v1.3.2\u001b[39m\n",
      "\u001b[92m\u001b[1mPrecompiling\u001b[22m\u001b[39m project...\n",
      "   2990.6 ms\u001b[32m  ✓ \u001b[39m\u001b[90mCoverageTools\u001b[39m\n",
      "   2615.0 ms\u001b[32m  ✓ \u001b[39mCoverage\n",
      "  2 dependencies successfully precompiled in 8 seconds. 468 already precompiled.\n",
      "\u001b[32m\u001b[1m   Resolving\u001b[22m\u001b[39m package versions...\n",
      "\u001b[32m\u001b[1m    Updating\u001b[22m\u001b[39m `~/.julia/environments/v1.11/Project.toml`\n",
      "  \u001b[90m[56ddb016] \u001b[39m\u001b[92m+ Logging v1.11.0\u001b[39m\n",
      "\u001b[32m\u001b[1m  No Changes\u001b[22m\u001b[39m to `~/.julia/environments/v1.11/Manifest.toml`\n",
      "\u001b[32m\u001b[1m   Resolving\u001b[22m\u001b[39m package versions...\n",
      "\u001b[32m\u001b[1m   Installed\u001b[22m\u001b[39m SyslogLogging ─ v0.1.1\n",
      "\u001b[32m\u001b[1m   Installed\u001b[22m\u001b[39m Syslogs ─────── v0.3.0\n",
      "\u001b[32m\u001b[1m    Updating\u001b[22m\u001b[39m `~/.julia/environments/v1.11/Project.toml`\n",
      "  \u001b[90m[0c4b0c42] \u001b[39m\u001b[92m+ SyslogLogging v0.1.1\u001b[39m\n",
      "\u001b[32m\u001b[1m    Updating\u001b[22m\u001b[39m `~/.julia/environments/v1.11/Manifest.toml`\n",
      "  \u001b[90m[0c4b0c42] \u001b[39m\u001b[92m+ SyslogLogging v0.1.1\u001b[39m\n",
      "  \u001b[90m[cea106d9] \u001b[39m\u001b[92m+ Syslogs v0.3.0\u001b[39m\n",
      "\u001b[92m\u001b[1mPrecompiling\u001b[22m\u001b[39m project...\n",
      "   2929.3 ms\u001b[32m  ✓ \u001b[39m\u001b[90mSyslogs\u001b[39m\n",
      "   1643.8 ms\u001b[32m  ✓ \u001b[39mSyslogLogging\n",
      "  2 dependencies successfully precompiled in 6 seconds. 470 already precompiled.\n",
      "\u001b[32m\u001b[1m   Resolving\u001b[22m\u001b[39m package versions...\n",
      "\u001b[32m\u001b[1m   Installed\u001b[22m\u001b[39m Glob ──────────── v1.3.1\n",
      "\u001b[32m\u001b[1m   Installed\u001b[22m\u001b[39m PackageCompiler ─ v2.2.0\n",
      "\u001b[32m\u001b[1m    Updating\u001b[22m\u001b[39m `~/.julia/environments/v1.11/Project.toml`\n",
      "  \u001b[90m[9b87118b] \u001b[39m\u001b[92m+ PackageCompiler v2.2.0\u001b[39m\n",
      "\u001b[32m\u001b[1m    Updating\u001b[22m\u001b[39m `~/.julia/environments/v1.11/Manifest.toml`\n",
      "  \u001b[90m[c27321d9] \u001b[39m\u001b[92m+ Glob v1.3.1\u001b[39m\n",
      "  \u001b[90m[9b87118b] \u001b[39m\u001b[92m+ PackageCompiler v2.2.0\u001b[39m\n",
      "\u001b[92m\u001b[1mPrecompiling\u001b[22m\u001b[39m project...\n",
      "   2160.5 ms\u001b[32m  ✓ \u001b[39m\u001b[90mGlob\u001b[39m\n",
      "   6802.6 ms\u001b[32m  ✓ \u001b[39mPackageCompiler\n",
      "  2 dependencies successfully precompiled in 10 seconds. 472 already precompiled.\n",
      "\u001b[32m\u001b[1m   Resolving\u001b[22m\u001b[39m package versions...\n",
      "\u001b[32m\u001b[1m   Installed\u001b[22m\u001b[39m RegistryInstances ─────── v0.1.0\n",
      "\u001b[32m\u001b[1m   Installed\u001b[22m\u001b[39m IOCapture ─────────────── v0.2.5\n",
      "\u001b[32m\u001b[1m   Installed\u001b[22m\u001b[39m MarkdownAST ───────────── v0.1.2\n",
      "\u001b[32m\u001b[1m   Installed\u001b[22m\u001b[39m Git_jll ───────────────── v2.47.1+0\n",
      "\u001b[32m\u001b[1m   Installed\u001b[22m\u001b[39m Git ───────────────────── v1.3.1\n",
      "\u001b[32m\u001b[1m   Installed\u001b[22m\u001b[39m ANSIColoredPrinters ───── v0.0.1\n",
      "\u001b[32m\u001b[1m   Installed\u001b[22m\u001b[39m LazilyInitializedFields ─ v1.3.0\n",
      "\u001b[32m\u001b[1m   Installed\u001b[22m\u001b[39m Documenter ────────────── v1.9.0\n",
      "\u001b[32m\u001b[1m    Updating\u001b[22m\u001b[39m `~/.julia/environments/v1.11/Project.toml`\n",
      "  \u001b[90m[e30172f5] \u001b[39m\u001b[92m+ Documenter v1.9.0\u001b[39m\n",
      "\u001b[32m\u001b[1m    Updating\u001b[22m\u001b[39m `~/.julia/environments/v1.11/Manifest.toml`\n",
      "  \u001b[90m[a4c015fc] \u001b[39m\u001b[92m+ ANSIColoredPrinters v0.0.1\u001b[39m\n",
      "  \u001b[90m[e30172f5] \u001b[39m\u001b[92m+ Documenter v1.9.0\u001b[39m\n",
      "  \u001b[90m[d7ba0133] \u001b[39m\u001b[92m+ Git v1.3.1\u001b[39m\n",
      "  \u001b[90m[b5f81e59] \u001b[39m\u001b[92m+ IOCapture v0.2.5\u001b[39m\n",
      "  \u001b[90m[0e77f7df] \u001b[39m\u001b[92m+ LazilyInitializedFields v1.3.0\u001b[39m\n",
      "  \u001b[90m[d0879d2d] \u001b[39m\u001b[92m+ MarkdownAST v0.1.2\u001b[39m\n",
      "  \u001b[90m[2792f1a3] \u001b[39m\u001b[92m+ RegistryInstances v0.1.0\u001b[39m\n",
      "  \u001b[90m[f8c6e375] \u001b[39m\u001b[92m+ Git_jll v2.47.1+0\u001b[39m\n",
      "\u001b[92m\u001b[1mPrecompiling\u001b[22m\u001b[39m project...\n",
      "   5724.1 ms\u001b[32m  ✓ \u001b[39m\u001b[90mIOCapture\u001b[39m\n",
      "   5440.1 ms\u001b[32m  ✓ \u001b[39m\u001b[90mGit_jll\u001b[39m\n",
      "   6091.6 ms\u001b[32m  ✓ \u001b[39m\u001b[90mANSIColoredPrinters\u001b[39m\n",
      "   5753.2 ms\u001b[32m  ✓ \u001b[39m\u001b[90mLazilyInitializedFields\u001b[39m\n",
      "   6047.7 ms\u001b[32m  ✓ \u001b[39m\u001b[90mMarkdownAST\u001b[39m\n",
      "   2450.6 ms\u001b[32m  ✓ \u001b[39m\u001b[90mGit\u001b[39m\n",
      "   5902.1 ms\u001b[32m  ✓ \u001b[39m\u001b[90mRegistryInstances\u001b[39m\n",
      " 101628.5 ms\u001b[32m  ✓ \u001b[39mDocumenter\n",
      "  8 dependencies successfully precompiled in 116 seconds. 474 already precompiled.\n",
      "\u001b[32m\u001b[1m   Resolving\u001b[22m\u001b[39m package versions...\n",
      "\u001b[32m\u001b[1m  No Changes\u001b[22m\u001b[39m to `~/.julia/environments/v1.11/Project.toml`\n",
      "\u001b[32m\u001b[1m  No Changes\u001b[22m\u001b[39m to `~/.julia/environments/v1.11/Manifest.toml`\n"
     ]
    }
   ],
   "source": [
    "include(\"jl/lib/install.jl\")"
   ]
  },
  {
   "cell_type": "code",
   "execution_count": 7,
   "metadata": {},
   "outputs": [],
   "source": [
    "include(\"jl/lib/datascience.jl\") "
   ]
  },
  {
   "cell_type": "code",
   "execution_count": 2,
   "metadata": {},
   "outputs": [],
   "source": [
    "using CSV\n",
    "using DataFrames"
   ]
  },
  {
   "cell_type": "code",
   "execution_count": 5,
   "metadata": {},
   "outputs": [
    {
     "data": {
      "text/html": [
       "<div><div style = \"float: left;\"><span>23151×8 DataFrame</span></div><div style = \"float: right;\"><span style = \"font-style: italic;\">23126 rows omitted</span></div><div style = \"clear: both;\"></div></div><div class = \"data-frame\" style = \"overflow-x: scroll;\"><table class = \"data-frame\" style = \"margin-bottom: 6px;\"><thead><tr class = \"header\"><th class = \"rowNumber\" style = \"font-weight: bold; text-align: right;\">Row</th><th style = \"text-align: left;\">gameid</th><th style = \"text-align: left;\">title</th><th style = \"text-align: left;\">platform</th><th style = \"text-align: left;\">developers</th><th style = \"text-align: left;\">publishers</th><th style = \"text-align: left;\">genres</th><th style = \"text-align: left;\">supported_languages</th><th style = \"text-align: left;\">release_date</th></tr><tr class = \"subheader headerLastRow\"><th class = \"rowNumber\" style = \"font-weight: bold; text-align: right;\"></th><th title = \"Int64\" style = \"text-align: left;\">Int64</th><th title = \"String\" style = \"text-align: left;\">String</th><th title = \"String7\" style = \"text-align: left;\">String7</th><th title = \"Union{Missing, String}\" style = \"text-align: left;\">String?</th><th title = \"Union{Missing, String}\" style = \"text-align: left;\">String?</th><th title = \"Union{Missing, String}\" style = \"text-align: left;\">String?</th><th title = \"Union{Missing, String}\" style = \"text-align: left;\">String?</th><th title = \"Dates.Date\" style = \"text-align: left;\">Date</th></tr></thead><tbody><tr><td class = \"rowNumber\" style = \"font-weight: bold; text-align: right;\">1</td><td style = \"text-align: right;\">749375</td><td style = \"text-align: left;\">Medieval Match Master</td><td style = \"text-align: left;\">PS4</td><td style = \"text-align: left;\">[&apos;Erik Games&apos;]</td><td style = \"text-align: left;\">[&apos;Erik Games&apos;]</td><td style = \"text-align: left;\">[&apos;Puzzle&apos;]</td><td style = \"font-style: italic; text-align: left;\">missing</td><td style = \"text-align: left;\">2024-11-22</td></tr><tr><td class = \"rowNumber\" style = \"font-weight: bold; text-align: right;\">2</td><td style = \"text-align: right;\">749839</td><td style = \"text-align: left;\">Sunforge Solar Survival</td><td style = \"text-align: left;\">PS4</td><td style = \"text-align: left;\">[&apos;GrizzlyGames&apos;]</td><td style = \"text-align: left;\">[&apos;GrizzlyGames&apos;]</td><td style = \"font-style: italic; text-align: left;\">missing</td><td style = \"font-style: italic; text-align: left;\">missing</td><td style = \"text-align: left;\">2024-11-21</td></tr><tr><td class = \"rowNumber\" style = \"font-weight: bold; text-align: right;\">3</td><td style = \"text-align: right;\">749347</td><td style = \"text-align: left;\">Find Love Or Die Trying</td><td style = \"text-align: left;\">PS5</td><td style = \"text-align: left;\">[&apos;Sunseeker Games&apos;]</td><td style = \"text-align: left;\">[&apos;Ratalaika Games&apos;]</td><td style = \"text-align: left;\">[&apos;Visual Novel&apos;]</td><td style = \"font-style: italic; text-align: left;\">missing</td><td style = \"text-align: left;\">2024-11-22</td></tr><tr><td class = \"rowNumber\" style = \"font-weight: bold; text-align: right;\">4</td><td style = \"text-align: right;\">749341</td><td style = \"text-align: left;\">Medieval Match Master</td><td style = \"text-align: left;\">PS4</td><td style = \"text-align: left;\">[&apos;Erik Games&apos;]</td><td style = \"text-align: left;\">[&apos;Erik Games&apos;]</td><td style = \"text-align: left;\">[&apos;Puzzle&apos;]</td><td style = \"font-style: italic; text-align: left;\">missing</td><td style = \"text-align: left;\">2024-11-22</td></tr><tr><td class = \"rowNumber\" style = \"font-weight: bold; text-align: right;\">5</td><td style = \"text-align: right;\">749097</td><td style = \"text-align: left;\">Bust A Block 2</td><td style = \"text-align: left;\">PS5</td><td style = \"text-align: left;\">[&apos;ThiGames&apos;]</td><td style = \"text-align: left;\">[&apos;ThiGames&apos;]</td><td style = \"text-align: left;\">[&apos;Puzzle&apos;]</td><td style = \"font-style: italic; text-align: left;\">missing</td><td style = \"text-align: left;\">2024-11-21</td></tr><tr><td class = \"rowNumber\" style = \"font-weight: bold; text-align: right;\">6</td><td style = \"text-align: right;\">749095</td><td style = \"text-align: left;\">Bust A Block 2</td><td style = \"text-align: left;\">PS4</td><td style = \"text-align: left;\">[&apos;ThiGames&apos;]</td><td style = \"text-align: left;\">[&apos;ThiGames&apos;]</td><td style = \"text-align: left;\">[&apos;Puzzle&apos;]</td><td style = \"font-style: italic; text-align: left;\">missing</td><td style = \"text-align: left;\">2024-11-21</td></tr><tr><td class = \"rowNumber\" style = \"font-weight: bold; text-align: right;\">7</td><td style = \"text-align: right;\">746306</td><td style = \"text-align: left;\">Trading Card Shop Simulator</td><td style = \"text-align: left;\">PS5</td><td style = \"text-align: left;\">[&apos;NOSTRA GAMES&apos;]</td><td style = \"text-align: left;\">[&apos;NOSTRA GAMES&apos;]</td><td style = \"text-align: left;\">[&apos;Simulation&apos;]</td><td style = \"font-style: italic; text-align: left;\">missing</td><td style = \"text-align: left;\">2024-11-14</td></tr><tr><td class = \"rowNumber\" style = \"font-weight: bold; text-align: right;\">8</td><td style = \"text-align: right;\">746215</td><td style = \"text-align: left;\">Trading Card Shop Simulator</td><td style = \"text-align: left;\">PS5</td><td style = \"text-align: left;\">[&apos;NOSTRA GAMES&apos;]</td><td style = \"text-align: left;\">[&apos;NOSTRA GAMES&apos;]</td><td style = \"text-align: left;\">[&apos;Simulation&apos;]</td><td style = \"font-style: italic; text-align: left;\">missing</td><td style = \"text-align: left;\">2024-11-14</td></tr><tr><td class = \"rowNumber\" style = \"font-weight: bold; text-align: right;\">9</td><td style = \"text-align: right;\">745840</td><td style = \"text-align: left;\">Sprawl</td><td style = \"text-align: left;\">PS5</td><td style = \"text-align: left;\">[&apos;MAETH&apos;]</td><td style = \"text-align: left;\">[&apos;Rogue Games&apos;]</td><td style = \"text-align: left;\">[&apos;First Person Shooter&apos;]</td><td style = \"font-style: italic; text-align: left;\">missing</td><td style = \"text-align: left;\">2024-11-21</td></tr><tr><td class = \"rowNumber\" style = \"font-weight: bold; text-align: right;\">10</td><td style = \"text-align: right;\">746216</td><td style = \"text-align: left;\">Trading Card Shop Simulator</td><td style = \"text-align: left;\">PS4</td><td style = \"text-align: left;\">[&apos;NOSTRA GAMES&apos;]</td><td style = \"text-align: left;\">[&apos;NOSTRA GAMES&apos;]</td><td style = \"text-align: left;\">[&apos;Simulation&apos;]</td><td style = \"font-style: italic; text-align: left;\">missing</td><td style = \"text-align: left;\">2024-11-14</td></tr><tr><td class = \"rowNumber\" style = \"font-weight: bold; text-align: right;\">11</td><td style = \"text-align: right;\">745671</td><td style = \"text-align: left;\">Pipe Connect</td><td style = \"text-align: left;\">PS4</td><td style = \"text-align: left;\">[&apos;ASI GAMES TECHNOLOGIES&apos;]</td><td style = \"text-align: left;\">[&apos;ASI GAMES TECHNOLOGIES&apos;]</td><td style = \"text-align: left;\">[&apos;Puzzle&apos;]</td><td style = \"font-style: italic; text-align: left;\">missing</td><td style = \"text-align: left;\">2024-11-11</td></tr><tr><td class = \"rowNumber\" style = \"font-weight: bold; text-align: right;\">12</td><td style = \"text-align: right;\">745093</td><td style = \"text-align: left;\">Run From Mummies</td><td style = \"text-align: left;\">PS5</td><td style = \"text-align: left;\">[&apos;Lost Turnip&apos;]</td><td style = \"text-align: left;\">[&apos;Lost Turnip&apos;]</td><td style = \"text-align: left;\">[&apos;Action-Adventure&apos;]</td><td style = \"font-style: italic; text-align: left;\">missing</td><td style = \"text-align: left;\">2024-11-06</td></tr><tr><td class = \"rowNumber\" style = \"font-weight: bold; text-align: right;\">13</td><td style = \"text-align: right;\">745453</td><td style = \"text-align: left;\">Neo Harbor Rescue Squad</td><td style = \"text-align: left;\">PS4</td><td style = \"text-align: left;\">[&apos;BancyCo&apos;]</td><td style = \"text-align: left;\">[&apos;BancyCo&apos;]</td><td style = \"text-align: left;\">[&apos;Action&apos;]</td><td style = \"text-align: left;\">[&apos;Chinese (traditional)&apos;, &apos;Chinese (simplified)&apos;]</td><td style = \"text-align: left;\">2024-11-12</td></tr><tr><td style = \"text-align: right;\">&vellip;</td><td style = \"text-align: right;\">&vellip;</td><td style = \"text-align: right;\">&vellip;</td><td style = \"text-align: right;\">&vellip;</td><td style = \"text-align: right;\">&vellip;</td><td style = \"text-align: right;\">&vellip;</td><td style = \"text-align: right;\">&vellip;</td><td style = \"text-align: right;\">&vellip;</td><td style = \"text-align: right;\">&vellip;</td></tr><tr><td class = \"rowNumber\" style = \"font-weight: bold; text-align: right;\">23140</td><td style = \"text-align: right;\">706335</td><td style = \"text-align: left;\">A Night on the Farm</td><td style = \"text-align: left;\">PS4</td><td style = \"text-align: left;\">[&apos;Frozen Flame Interactive&apos;, &apos;eastasiasoft&apos;]</td><td style = \"text-align: left;\">[&apos;eastasiasoft&apos;]</td><td style = \"text-align: left;\">[&apos;Adventure&apos;]</td><td style = \"font-style: italic; text-align: left;\">missing</td><td style = \"text-align: left;\">2024-09-18</td></tr><tr><td class = \"rowNumber\" style = \"font-weight: bold; text-align: right;\">23141</td><td style = \"text-align: right;\">706337</td><td style = \"text-align: left;\">A Night on the Farm</td><td style = \"text-align: left;\">PS5</td><td style = \"text-align: left;\">[&apos;Frozen Flame Interactive&apos;, &apos;eastasiasoft&apos;]</td><td style = \"text-align: left;\">[&apos;eastasiasoft&apos;]</td><td style = \"text-align: left;\">[&apos;Adventure&apos;]</td><td style = \"font-style: italic; text-align: left;\">missing</td><td style = \"text-align: left;\">2024-09-18</td></tr><tr><td class = \"rowNumber\" style = \"font-weight: bold; text-align: right;\">23142</td><td style = \"text-align: right;\">706358</td><td style = \"text-align: left;\">8-Bit Adventures 2</td><td style = \"text-align: left;\">PS5</td><td style = \"text-align: left;\">[&apos;Critical Games&apos;]</td><td style = \"text-align: left;\">[&apos;Critical Games&apos;]</td><td style = \"text-align: left;\">[&apos;Role Playing&apos;, &apos;Turn Based&apos;]</td><td style = \"font-style: italic; text-align: left;\">missing</td><td style = \"text-align: left;\">2024-10-16</td></tr><tr><td class = \"rowNumber\" style = \"font-weight: bold; text-align: right;\">23143</td><td style = \"text-align: right;\">706338</td><td style = \"text-align: left;\">A Night on the Farm</td><td style = \"text-align: left;\">PS5</td><td style = \"text-align: left;\">[&apos;Frozen Flame Interactive&apos;, &apos;eastasiasoft&apos;]</td><td style = \"text-align: left;\">[&apos;eastasiasoft&apos;]</td><td style = \"text-align: left;\">[&apos;Adventure&apos;]</td><td style = \"font-style: italic; text-align: left;\">missing</td><td style = \"text-align: left;\">2024-09-18</td></tr><tr><td class = \"rowNumber\" style = \"font-weight: bold; text-align: right;\">23144</td><td style = \"text-align: right;\">706230</td><td style = \"text-align: left;\">Train Sim World 5: Set 1</td><td style = \"text-align: left;\">PS4</td><td style = \"text-align: left;\">[&apos;Dovetail Games&apos;, &apos;Just Trains&apos;, &apos;TSG&apos;, &apos;Alan Thomson Simulation&apos;, &apos;Incredible Trains&apos;]</td><td style = \"text-align: left;\">[&apos;Dovetail Games&apos;]</td><td style = \"text-align: left;\">[&apos;Simulation&apos;]</td><td style = \"text-align: left;\">[&apos;French&apos;, &apos;Spanish&apos;, &apos;German&apos;, &apos;Italian&apos;, &apos;Russian&apos;, &apos;Chinese (simplified)&apos;, &apos;Polish&apos;]</td><td style = \"text-align: left;\">2024-09-17</td></tr><tr><td class = \"rowNumber\" style = \"font-weight: bold; text-align: right;\">23145</td><td style = \"text-align: right;\">706060</td><td style = \"text-align: left;\">Rugrats: Adventures in Gameland</td><td style = \"text-align: left;\">PS5</td><td style = \"text-align: left;\">[&apos;Wallride&apos;]</td><td style = \"text-align: left;\">[&apos;The MIX Games&apos;, &apos;Limited Run Games&apos;]</td><td style = \"text-align: left;\">[&apos;Platformer&apos;]</td><td style = \"font-style: italic; text-align: left;\">missing</td><td style = \"text-align: left;\">2024-09-10</td></tr><tr><td class = \"rowNumber\" style = \"font-weight: bold; text-align: right;\">23146</td><td style = \"text-align: right;\">706007</td><td style = \"text-align: left;\">Yars Rising</td><td style = \"text-align: left;\">PS5</td><td style = \"text-align: left;\">[&apos;WayForward Technologies&apos;]</td><td style = \"text-align: left;\">[&apos;Atari&apos;]</td><td style = \"text-align: left;\">[&apos;Metroidvania&apos;, &apos;Platformer&apos;]</td><td style = \"text-align: left;\">[&apos;Japanese&apos;, &apos;French&apos;, &apos;Spanish&apos;, &apos;German&apos;, &apos;Italian&apos;, &apos;French (Canada)&apos;]</td><td style = \"text-align: left;\">2024-09-10</td></tr><tr><td class = \"rowNumber\" style = \"font-weight: bold; text-align: right;\">23147</td><td style = \"text-align: right;\">706056</td><td style = \"text-align: left;\">Space Surveyor</td><td style = \"text-align: left;\">PS4</td><td style = \"text-align: left;\">[&apos;Zazenfly Development&apos;]</td><td style = \"text-align: left;\">[&apos;Zazenfly Development&apos;]</td><td style = \"text-align: left;\">[&apos;Action&apos;]</td><td style = \"font-style: italic; text-align: left;\">missing</td><td style = \"text-align: left;\">2024-08-08</td></tr><tr><td class = \"rowNumber\" style = \"font-weight: bold; text-align: right;\">23148</td><td style = \"text-align: right;\">670801</td><td style = \"text-align: left;\">The Dragoness: Command of the Flame</td><td style = \"text-align: left;\">PS4</td><td style = \"text-align: left;\">[&apos;Crazy Goat Games&apos;]</td><td style = \"text-align: left;\">[&apos;PQube&apos;, &apos;Oizumi Amuzio&apos;]</td><td style = \"text-align: left;\">[&apos;Role Playing&apos;, &apos;Strategy&apos;, &apos;Turn Based&apos;]</td><td style = \"text-align: left;\">[&apos;Japanese&apos;, &apos;French&apos;, &apos;Spanish&apos;, &apos;German&apos;, &apos;Russian&apos;, &apos;Chinese (simplified)&apos;, &apos;Polish&apos;]</td><td style = \"text-align: left;\">2023-08-10</td></tr><tr><td class = \"rowNumber\" style = \"font-weight: bold; text-align: right;\">23149</td><td style = \"text-align: right;\">588809</td><td style = \"text-align: left;\">The Dragoness: Command of the Flame</td><td style = \"text-align: left;\">PS4</td><td style = \"text-align: left;\">[&apos;Crazy Goat Games&apos;]</td><td style = \"text-align: left;\">[&apos;PQube&apos;, &apos;Oizumi Amuzio&apos;]</td><td style = \"text-align: left;\">[&apos;Role Playing&apos;, &apos;Strategy&apos;, &apos;Turn Based&apos;]</td><td style = \"text-align: left;\">[&apos;French&apos;, &apos;Spanish&apos;, &apos;German&apos;, &apos;Russian&apos;, &apos;Chinese (simplified)&apos;, &apos;Polish&apos;]</td><td style = \"text-align: left;\">2023-08-10</td></tr><tr><td class = \"rowNumber\" style = \"font-weight: bold; text-align: right;\">23150</td><td style = \"text-align: right;\">573296</td><td style = \"text-align: left;\">Naiad</td><td style = \"text-align: left;\">PS5</td><td style = \"text-align: left;\">[&apos;HiWarp&apos;]</td><td style = \"text-align: left;\">[&apos;HiWarp&apos;]</td><td style = \"text-align: left;\">[&apos;Adventure&apos;]</td><td style = \"text-align: left;\">[&apos;Spanish&apos;]</td><td style = \"text-align: left;\">2024-12-10</td></tr><tr><td class = \"rowNumber\" style = \"font-weight: bold; text-align: right;\">23151</td><td style = \"text-align: right;\">7593</td><td style = \"text-align: left;\">SingStar [Digital]</td><td style = \"text-align: left;\">PS4</td><td style = \"font-style: italic; text-align: left;\">missing</td><td style = \"text-align: left;\">[&apos;Sony Computer Entertainment America&apos;]</td><td style = \"text-align: left;\">[&apos;MUSIC/RHYTHM&apos;]</td><td style = \"text-align: left;\">[&apos;French&apos;, &apos;Spanish&apos;, &apos;German&apos;, &apos;Italian&apos;, &apos;Dutch&apos;, &apos;Portuguese&apos;, &apos;Russian&apos;, &apos;Finnish&apos;, &apos;Swedish&apos;, &apos;Danish&apos;, &apos;Norway&apos;, &apos;Polish&apos;, &apos;Portuguese (Brazil)&apos;, &apos;Turkish&apos;, &apos;Spanish (Mexico)&apos;]</td><td style = \"text-align: left;\">2014-10-28</td></tr></tbody></table></div>"
      ],
      "text/latex": [
       "\\begin{tabular}{r|ccccc}\n",
       "\t& gameid & title & platform & developers & \\\\\n",
       "\t\\hline\n",
       "\t& Int64 & String & String7 & String? & \\\\\n",
       "\t\\hline\n",
       "\t1 & 749375 & Medieval Match Master & PS4 & ['Erik Games'] & $\\dots$ \\\\\n",
       "\t2 & 749839 & Sunforge Solar Survival & PS4 & ['GrizzlyGames'] & $\\dots$ \\\\\n",
       "\t3 & 749347 & Find Love Or Die Trying & PS5 & ['Sunseeker Games'] & $\\dots$ \\\\\n",
       "\t4 & 749341 & Medieval Match Master & PS4 & ['Erik Games'] & $\\dots$ \\\\\n",
       "\t5 & 749097 & Bust A Block 2 & PS5 & ['ThiGames'] & $\\dots$ \\\\\n",
       "\t6 & 749095 & Bust A Block 2 & PS4 & ['ThiGames'] & $\\dots$ \\\\\n",
       "\t7 & 746306 & Trading Card Shop Simulator & PS5 & ['NOSTRA GAMES'] & $\\dots$ \\\\\n",
       "\t8 & 746215 & Trading Card Shop Simulator & PS5 & ['NOSTRA GAMES'] & $\\dots$ \\\\\n",
       "\t9 & 745840 & Sprawl & PS5 & ['MAETH'] & $\\dots$ \\\\\n",
       "\t10 & 746216 & Trading Card Shop Simulator & PS4 & ['NOSTRA GAMES'] & $\\dots$ \\\\\n",
       "\t11 & 745671 & Pipe Connect & PS4 & ['ASI GAMES TECHNOLOGIES'] & $\\dots$ \\\\\n",
       "\t12 & 745093 & Run From Mummies & PS5 & ['Lost Turnip'] & $\\dots$ \\\\\n",
       "\t13 & 745453 & Neo Harbor Rescue Squad & PS4 & ['BancyCo'] & $\\dots$ \\\\\n",
       "\t14 & 744562 & Racing Champions & PS4 & ['Revulo Games'] & $\\dots$ \\\\\n",
       "\t15 & 744193 & Cubic Run & PS4 & ['Webnetic'] & $\\dots$ \\\\\n",
       "\t16 & 744192 & Cubic Run & PS5 & ['Webnetic'] & $\\dots$ \\\\\n",
       "\t17 & 749591 & Volley Pals & PS4 & ['NAISU'] & $\\dots$ \\\\\n",
       "\t18 & 749407 & Hop Up & PS5 & ['Zakym'] & $\\dots$ \\\\\n",
       "\t19 & 749385 & Hop Up & PS4 & ['Zakym'] & $\\dots$ \\\\\n",
       "\t20 & 749302 & Slave Zero X & PS4 & ['Poppy Works'] & $\\dots$ \\\\\n",
       "\t21 & 749237 & Jetpack Kiwi & PS5 & ['Pitigamedev'] & $\\dots$ \\\\\n",
       "\t22 & 749170 & Basketball Legends 24 & PS4 & ['DEZVOLT App \\& Idei'] & $\\dots$ \\\\\n",
       "\t23 & 749075 & Zen Drift & PS5 & ['NOSTRA GAMES'] & $\\dots$ \\\\\n",
       "\t24 & 746288 & Unsolved Case: Killer Popularity CE & PS4 & ['Do Games'] & $\\dots$ \\\\\n",
       "\t$\\dots$ & $\\dots$ & $\\dots$ & $\\dots$ & $\\dots$ &  \\\\\n",
       "\\end{tabular}\n"
      ],
      "text/plain": [
       "\u001b[1m23151×8 DataFrame\u001b[0m\n",
       "\u001b[1m   Row \u001b[0m│\u001b[1m gameid \u001b[0m\u001b[1m title                             \u001b[0m\u001b[1m platform \u001b[0m\u001b[1m developers      \u001b[0m ⋯\n",
       "       │\u001b[90m Int64  \u001b[0m\u001b[90m String                            \u001b[0m\u001b[90m String7  \u001b[0m\u001b[90m String?         \u001b[0m ⋯\n",
       "───────┼────────────────────────────────────────────────────────────────────────\n",
       "     1 │ 749375  Medieval Match Master              PS4       ['Erik Games']   ⋯\n",
       "     2 │ 749839  Sunforge Solar Survival            PS4       ['GrizzlyGames']\n",
       "     3 │ 749347  Find Love Or Die Trying            PS5       ['Sunseeker Game\n",
       "     4 │ 749341  Medieval Match Master              PS4       ['Erik Games']\n",
       "     5 │ 749097  Bust A Block 2                     PS5       ['ThiGames']     ⋯\n",
       "     6 │ 749095  Bust A Block 2                     PS4       ['ThiGames']\n",
       "     7 │ 746306  Trading Card Shop Simulator        PS5       ['NOSTRA GAMES']\n",
       "     8 │ 746215  Trading Card Shop Simulator        PS5       ['NOSTRA GAMES']\n",
       "   ⋮   │   ⋮                     ⋮                     ⋮                       ⋱\n",
       " 23145 │ 706060  Rugrats: Adventures in Gameland    PS5       ['Wallride']     ⋯\n",
       " 23146 │ 706007  Yars Rising                        PS5       ['WayForward Tec\n",
       " 23147 │ 706056  Space Surveyor                     PS4       ['Zazenfly Devel\n",
       " 23148 │ 670801  The Dragoness: Command of the Fl…  PS4       ['Crazy Goat Gam\n",
       " 23149 │ 588809  The Dragoness: Command of the Fl…  PS4       ['Crazy Goat Gam ⋯\n",
       " 23150 │ 573296  Naiad                              PS5       ['HiWarp']\n",
       " 23151 │   7593  SingStar [Digital]                 PS4      \u001b[90m missing         \u001b[0m\n",
       "\u001b[36m                                                5 columns and 23136 rows omitted\u001b[0m"
      ]
     },
     "metadata": {},
     "output_type": "display_data"
    }
   ],
   "source": [
    "games_csv = CSV.read(\"games.csv\", DataFrame)"
   ]
  },
  {
   "cell_type": "code",
   "execution_count": null,
   "metadata": {},
   "outputs": [
    {
     "data": {
      "text/html": [
       "<div><div style = \"float: left;\"><span>8×7 DataFrame</span></div><div style = \"clear: both;\"></div></div><div class = \"data-frame\" style = \"overflow-x: scroll;\"><table class = \"data-frame\" style = \"margin-bottom: 6px;\"><thead><tr class = \"header\"><th class = \"rowNumber\" style = \"font-weight: bold; text-align: right;\">Row</th><th style = \"text-align: left;\">variable</th><th style = \"text-align: left;\">mean</th><th style = \"text-align: left;\">min</th><th style = \"text-align: left;\">median</th><th style = \"text-align: left;\">max</th><th style = \"text-align: left;\">nmissing</th><th style = \"text-align: left;\">eltype</th></tr><tr class = \"subheader headerLastRow\"><th class = \"rowNumber\" style = \"font-weight: bold; text-align: right;\"></th><th title = \"Symbol\" style = \"text-align: left;\">Symbol</th><th title = \"Union{Nothing, Float64}\" style = \"text-align: left;\">Union…</th><th title = \"Any\" style = \"text-align: left;\">Any</th><th title = \"Any\" style = \"text-align: left;\">Any</th><th title = \"Any\" style = \"text-align: left;\">Any</th><th title = \"Int64\" style = \"text-align: left;\">Int64</th><th title = \"Type\" style = \"text-align: left;\">Type</th></tr></thead><tbody><tr><td class = \"rowNumber\" style = \"font-weight: bold; text-align: right;\">1</td><td style = \"text-align: left;\">gameid</td><td style = \"text-align: left;\">4.33062e5</td><td style = \"text-align: left;\">1</td><td style = \"text-align: left;\">508540.0</td><td style = \"text-align: left;\">766555</td><td style = \"text-align: right;\">0</td><td style = \"text-align: left;\">Int64</td></tr><tr><td class = \"rowNumber\" style = \"font-weight: bold; text-align: right;\">2</td><td style = \"text-align: left;\">title</td><td style = \"font-style: italic; text-align: left;\"></td><td style = \"text-align: left;\">&quot;Buy The Game, I Have a Gun&quot; -Sheesh-Man</td><td style = \"font-style: italic; text-align: left;\"></td><td style = \"text-align: left;\">天頂</td><td style = \"text-align: right;\">0</td><td style = \"text-align: left;\">String</td></tr><tr><td class = \"rowNumber\" style = \"font-weight: bold; text-align: right;\">3</td><td style = \"text-align: left;\">platform</td><td style = \"font-style: italic; text-align: left;\"></td><td style = \"text-align: left;\">PS Vita</td><td style = \"font-style: italic; text-align: left;\"></td><td style = \"text-align: left;\">PS5</td><td style = \"text-align: right;\">0</td><td style = \"text-align: left;\">String7</td></tr><tr><td class = \"rowNumber\" style = \"font-weight: bold; text-align: right;\">4</td><td style = \"text-align: left;\">developers</td><td style = \"font-style: italic; text-align: left;\"></td><td style = \"text-align: left;\">[&quot;ByteRockers&apos; Games&quot;]</td><td style = \"font-style: italic; text-align: left;\"></td><td style = \"text-align: left;\">[&apos;求道庵（gudouan）&apos;]</td><td style = \"text-align: right;\">17</td><td style = \"text-align: left;\">Union{Missing, String}</td></tr><tr><td class = \"rowNumber\" style = \"font-weight: bold; text-align: right;\">5</td><td style = \"text-align: left;\">publishers</td><td style = \"font-style: italic; text-align: left;\"></td><td style = \"text-align: left;\">[&quot;ByteRockers&apos; Games&quot;]</td><td style = \"font-style: italic; text-align: left;\"></td><td style = \"text-align: left;\">[&apos;株式会社バンダイナムコエンターテインメント&apos;]</td><td style = \"text-align: right;\">11</td><td style = \"text-align: left;\">Union{Missing, String}</td></tr><tr><td class = \"rowNumber\" style = \"font-weight: bold; text-align: right;\">6</td><td style = \"text-align: left;\">genres</td><td style = \"font-style: italic; text-align: left;\"></td><td style = \"text-align: left;\">[&quot;Beat &apos;em up&quot;, &quot;Shoot &apos;em up&quot;]</td><td style = \"font-style: italic; text-align: left;\"></td><td style = \"text-align: left;\">[&apos;❓ Quiz ❓&apos;]</td><td style = \"text-align: right;\">142</td><td style = \"text-align: left;\">Union{Missing, String}</td></tr><tr><td class = \"rowNumber\" style = \"font-weight: bold; text-align: right;\">7</td><td style = \"text-align: left;\">supported_languages</td><td style = \"font-style: italic; text-align: left;\"></td><td style = \"text-align: left;\">[&apos;Arabic&apos;]</td><td style = \"font-style: italic; text-align: left;\"></td><td style = \"text-align: left;\">[&apos;Turkish&apos;]</td><td style = \"text-align: right;\">12537</td><td style = \"text-align: left;\">Union{Missing, String}</td></tr><tr><td class = \"rowNumber\" style = \"font-weight: bold; text-align: right;\">8</td><td style = \"text-align: left;\">release_date</td><td style = \"font-style: italic; text-align: left;\"></td><td style = \"text-align: left;\">2007-03-23</td><td style = \"text-align: left;\">2022-06-14</td><td style = \"text-align: left;\">2025-01-30</td><td style = \"text-align: right;\">0</td><td style = \"text-align: left;\">Date</td></tr></tbody></table></div>"
      ],
      "text/latex": [
       "\\begin{tabular}{r|ccccc}\n",
       "\t& variable & mean & min & median & \\\\\n",
       "\t\\hline\n",
       "\t& Symbol & Union… & Any & Any & \\\\\n",
       "\t\\hline\n",
       "\t1 & gameid & 4.33062e5 & 1 & 508540.0 & $\\dots$ \\\\\n",
       "\t2 & title &  & \"Buy The Game, I Have a Gun\" -Sheesh-Man &  & $\\dots$ \\\\\n",
       "\t3 & platform &  & PS Vita &  & $\\dots$ \\\\\n",
       "\t4 & developers &  & [\"ByteRockers' Games\"] &  & $\\dots$ \\\\\n",
       "\t5 & publishers &  & [\"ByteRockers' Games\"] &  & $\\dots$ \\\\\n",
       "\t6 & genres &  & [\"Beat 'em up\", \"Shoot 'em up\"] &  & $\\dots$ \\\\\n",
       "\t7 & supported\\_languages &  & ['Arabic'] &  & $\\dots$ \\\\\n",
       "\t8 & release\\_date &  & 2007-03-23 & 2022-06-14 & $\\dots$ \\\\\n",
       "\\end{tabular}\n"
      ],
      "text/plain": [
       "\u001b[1m8×7 DataFrame\u001b[0m\n",
       "\u001b[1m Row \u001b[0m│\u001b[1m variable            \u001b[0m\u001b[1m mean      \u001b[0m\u001b[1m min                               \u001b[0m\u001b[1m medi\u001b[0m ⋯\n",
       "     │\u001b[90m Symbol              \u001b[0m\u001b[90m Union…    \u001b[0m\u001b[90m Any                               \u001b[0m\u001b[90m Any \u001b[0m ⋯\n",
       "─────┼──────────────────────────────────────────────────────────────────────────\n",
       "   1 │ gameid               4.33062e5  1                                  5085 ⋯\n",
       "   2 │ title               \u001b[90m           \u001b[0m \"Buy The Game, I Have a Gun\" -Sh… \u001b[90m     \u001b[0m\n",
       "   3 │ platform            \u001b[90m           \u001b[0m PS Vita                           \u001b[90m     \u001b[0m\n",
       "   4 │ developers          \u001b[90m           \u001b[0m [\"ByteRockers' Games\"]            \u001b[90m     \u001b[0m\n",
       "   5 │ publishers          \u001b[90m           \u001b[0m [\"ByteRockers' Games\"]            \u001b[90m     \u001b[0m ⋯\n",
       "   6 │ genres              \u001b[90m           \u001b[0m [\"Beat 'em up\", \"Shoot 'em up\"]   \u001b[90m     \u001b[0m\n",
       "   7 │ supported_languages \u001b[90m           \u001b[0m ['Arabic']                        \u001b[90m     \u001b[0m\n",
       "   8 │ release_date        \u001b[90m           \u001b[0m 2007-03-23                         2022\n",
       "\u001b[36m                                                               4 columns omitted\u001b[0m"
      ]
     },
     "metadata": {},
     "output_type": "display_data"
    }
   ],
   "source": [
    "describe(games_csv)"
   ]
  },
  {
   "cell_type": "code",
   "execution_count": 14,
   "metadata": {},
   "outputs": [
    {
     "data": {
      "text/html": [
       "<div><div style = \"float: left;\"><span>10573×8 DataFrame</span></div><div style = \"float: right;\"><span style = \"font-style: italic;\">10548 rows omitted</span></div><div style = \"clear: both;\"></div></div><div class = \"data-frame\" style = \"overflow-x: scroll;\"><table class = \"data-frame\" style = \"margin-bottom: 6px;\"><thead><tr class = \"header\"><th class = \"rowNumber\" style = \"font-weight: bold; text-align: right;\">Row</th><th style = \"text-align: left;\">gameid</th><th style = \"text-align: left;\">title</th><th style = \"text-align: left;\">platform</th><th style = \"text-align: left;\">developers</th><th style = \"text-align: left;\">publishers</th><th style = \"text-align: left;\">genres</th><th style = \"text-align: left;\">supported_languages</th><th style = \"text-align: left;\">release_date</th></tr><tr class = \"subheader headerLastRow\"><th class = \"rowNumber\" style = \"font-weight: bold; text-align: right;\"></th><th title = \"Int64\" style = \"text-align: left;\">Int64</th><th title = \"String\" style = \"text-align: left;\">String</th><th title = \"String7\" style = \"text-align: left;\">String7</th><th title = \"Union{Missing, String}\" style = \"text-align: left;\">String?</th><th title = \"Union{Missing, String}\" style = \"text-align: left;\">String?</th><th title = \"Union{Missing, String}\" style = \"text-align: left;\">String?</th><th title = \"Union{Missing, String}\" style = \"text-align: left;\">String?</th><th title = \"Dates.Date\" style = \"text-align: left;\">Date</th></tr></thead><tbody><tr><td class = \"rowNumber\" style = \"font-weight: bold; text-align: right;\">1</td><td style = \"text-align: right;\">745453</td><td style = \"text-align: left;\">Neo Harbor Rescue Squad</td><td style = \"text-align: left;\">PS4</td><td style = \"text-align: left;\">[&apos;BancyCo&apos;]</td><td style = \"text-align: left;\">[&apos;BancyCo&apos;]</td><td style = \"text-align: left;\">[&apos;Action&apos;]</td><td style = \"text-align: left;\">[&apos;Chinese (traditional)&apos;, &apos;Chinese (simplified)&apos;]</td><td style = \"text-align: left;\">2024-11-12</td></tr><tr><td class = \"rowNumber\" style = \"font-weight: bold; text-align: right;\">2</td><td style = \"text-align: right;\">749302</td><td style = \"text-align: left;\">Slave Zero X</td><td style = \"text-align: left;\">PS4</td><td style = \"text-align: left;\">[&apos;Poppy Works&apos;]</td><td style = \"text-align: left;\">[&apos;Ziggurat Interactive&apos;, &apos;Beep Japan&apos;]</td><td style = \"text-align: left;\">[&apos;Action-Adventure&apos;]</td><td style = \"text-align: left;\">[&apos;Japanese&apos;, &apos;French&apos;, &apos;Spanish&apos;, &apos;German&apos;, &apos;Russian&apos;, &apos;Korean&apos;, &apos;Chinese (traditional)&apos;, &apos;Chinese (simplified)&apos;, &apos;Portuguese (Brazil)&apos;, &apos;Spanish (Mexico)&apos;, &apos;Thai&apos;]</td><td style = \"text-align: left;\">2024-02-21</td></tr><tr><td class = \"rowNumber\" style = \"font-weight: bold; text-align: right;\">3</td><td style = \"text-align: right;\">746253</td><td style = \"text-align: left;\">Check and Slash</td><td style = \"text-align: left;\">PS5</td><td style = \"text-align: left;\">[&apos;Gate of Madness&apos;]</td><td style = \"text-align: left;\">[&apos;AFIL Games&apos;]</td><td style = \"text-align: left;\">[&apos;Roguelite&apos;, &apos;Hack &amp; Slash&apos;, &apos;Card &amp; Board&apos;]</td><td style = \"text-align: left;\">[&apos;Portuguese (Brazil)&apos;]</td><td style = \"text-align: left;\">2024-11-15</td></tr><tr><td class = \"rowNumber\" style = \"font-weight: bold; text-align: right;\">4</td><td style = \"text-align: right;\">746144</td><td style = \"text-align: left;\">VED</td><td style = \"text-align: left;\">PS5</td><td style = \"text-align: left;\">[&apos;Karaclan Studio&apos;]</td><td style = \"text-align: left;\">[&apos;Fulqrum Publishing&apos;]</td><td style = \"text-align: left;\">[&apos;Role Playing&apos;, &apos;Turn Based&apos;]</td><td style = \"text-align: left;\">[&apos;Russian&apos;]</td><td style = \"text-align: left;\">2024-11-14</td></tr><tr><td class = \"rowNumber\" style = \"font-weight: bold; text-align: right;\">5</td><td style = \"text-align: right;\">744643</td><td style = \"text-align: left;\">Tetris Forever</td><td style = \"text-align: left;\">PS4</td><td style = \"text-align: left;\">[&apos;Digital Eclipse&apos;]</td><td style = \"text-align: left;\">[&apos;Digital Eclipse&apos;]</td><td style = \"text-align: left;\">[&apos;Puzzle&apos;]</td><td style = \"text-align: left;\">[&apos;Japanese&apos;, &apos;French&apos;, &apos;Spanish&apos;, &apos;German&apos;, &apos;Italian&apos;, &apos;Korean&apos;, &apos;Chinese (traditional)&apos;]</td><td style = \"text-align: left;\">2024-11-12</td></tr><tr><td class = \"rowNumber\" style = \"font-weight: bold; text-align: right;\">6</td><td style = \"text-align: right;\">747989</td><td style = \"text-align: left;\">Irem Collection Volume 2</td><td style = \"text-align: left;\">PS4</td><td style = \"text-align: left;\">[&apos;Tozai Games&apos;, &apos;Irem&apos;]</td><td style = \"text-align: left;\">[&apos;ININ Games&apos;, &apos;Strictly Limited Games&apos;, &apos;Tozai Games&apos;]</td><td style = \"text-align: left;\">[&apos;Collection&apos;]</td><td style = \"text-align: left;\">[&apos;Japanese&apos;]</td><td style = \"text-align: left;\">2024-11-14</td></tr><tr><td class = \"rowNumber\" style = \"font-weight: bold; text-align: right;\">7</td><td style = \"text-align: right;\">747908</td><td style = \"text-align: left;\">Uncle Chop&apos;s Rocket Shop</td><td style = \"text-align: left;\">PS5</td><td style = \"text-align: left;\">[&apos;Beard Envy&apos;]</td><td style = \"text-align: left;\">[&apos;Kasedo Games&apos;]</td><td style = \"text-align: left;\">[&apos;Roguelite&apos;, &apos;Puzzle&apos;]</td><td style = \"text-align: left;\">[&apos;Japanese&apos;, &apos;French&apos;, &apos;Spanish&apos;, &apos;German&apos;, &apos;Italian&apos;, &apos;Russian&apos;, &apos;Chinese (simplified)&apos;]</td><td style = \"text-align: left;\">2024-12-05</td></tr><tr><td class = \"rowNumber\" style = \"font-weight: bold; text-align: right;\">8</td><td style = \"text-align: right;\">747303</td><td style = \"text-align: left;\">Xuan Yuan Sword: The Gate of Firmament</td><td style = \"text-align: left;\">PS5</td><td style = \"text-align: left;\">[&apos;SOFTSTAR Entertainment&apos;, &apos;eastasiasoft&apos;]</td><td style = \"text-align: left;\">[&apos;eastasiasoft&apos;]</td><td style = \"text-align: left;\">[&apos;Role Playing&apos;, &apos;Turn Based&apos;]</td><td style = \"text-align: left;\">[&apos;Japanese&apos;, &apos;Chinese (traditional)&apos;, &apos;Chinese (simplified)&apos;]</td><td style = \"text-align: left;\">2024-12-13</td></tr><tr><td class = \"rowNumber\" style = \"font-weight: bold; text-align: right;\">9</td><td style = \"text-align: right;\">747484</td><td style = \"text-align: left;\">Anomaly Agent</td><td style = \"text-align: left;\">PS4</td><td style = \"text-align: left;\">[&apos;Phew Phew Games&apos;]</td><td style = \"text-align: left;\">[&apos;NAISU&apos;]</td><td style = \"text-align: left;\">[&apos;Platformer&apos;]</td><td style = \"text-align: left;\">[&apos;Turkish&apos;]</td><td style = \"text-align: left;\">2024-11-15</td></tr><tr><td class = \"rowNumber\" style = \"font-weight: bold; text-align: right;\">10</td><td style = \"text-align: right;\">747001</td><td style = \"text-align: left;\">Check and Slash</td><td style = \"text-align: left;\">PS4</td><td style = \"text-align: left;\">[&apos;Gate of Madness&apos;]</td><td style = \"text-align: left;\">[&apos;AFIL Games&apos;]</td><td style = \"text-align: left;\">[&apos;Roguelite&apos;, &apos;Hack &amp; Slash&apos;, &apos;Card &amp; Board&apos;]</td><td style = \"text-align: left;\">[&apos;Portuguese (Brazil)&apos;]</td><td style = \"text-align: left;\">2024-11-15</td></tr><tr><td class = \"rowNumber\" style = \"font-weight: bold; text-align: right;\">11</td><td style = \"text-align: right;\">746998</td><td style = \"text-align: left;\">Check and Slash</td><td style = \"text-align: left;\">PS4</td><td style = \"text-align: left;\">[&apos;Gate of Madness&apos;]</td><td style = \"text-align: left;\">[&apos;AFIL Games&apos;]</td><td style = \"text-align: left;\">[&apos;Roguelite&apos;, &apos;Hack &amp; Slash&apos;, &apos;Card &amp; Board&apos;]</td><td style = \"text-align: left;\">[&apos;Portuguese (Brazil)&apos;]</td><td style = \"text-align: left;\">2024-11-15</td></tr><tr><td class = \"rowNumber\" style = \"font-weight: bold; text-align: right;\">12</td><td style = \"text-align: right;\">746946</td><td style = \"text-align: left;\">Cuisineer</td><td style = \"text-align: left;\">PS5</td><td style = \"text-align: left;\">[&apos;BattleBrew Productions&apos;]</td><td style = \"text-align: left;\">[&apos;Marvelous Entertainment&apos;]</td><td style = \"text-align: left;\">[&apos;Simulation&apos;, &quot;Shoot &apos;em up&quot;, &apos;Management&apos;, &apos;Dungeon Crawler&apos;]</td><td style = \"text-align: left;\">[&apos;Japanese&apos;, &apos;French&apos;, &apos;Spanish&apos;, &apos;German&apos;, &apos;Korean&apos;, &apos;Chinese (traditional)&apos;, &apos;Chinese (simplified)&apos;, &apos;Portuguese (Brazil)&apos;]</td><td style = \"text-align: left;\">2025-01-28</td></tr><tr><td class = \"rowNumber\" style = \"font-weight: bold; text-align: right;\">13</td><td style = \"text-align: right;\">746358</td><td style = \"text-align: left;\">Check and Slash</td><td style = \"text-align: left;\">PS4</td><td style = \"text-align: left;\">[&apos;Gate of Madness&apos;]</td><td style = \"text-align: left;\">[&apos;AFIL Games&apos;]</td><td style = \"text-align: left;\">[&apos;Roguelite&apos;, &apos;Hack &amp; Slash&apos;, &apos;Card &amp; Board&apos;]</td><td style = \"text-align: left;\">[&apos;Portuguese (Brazil)&apos;]</td><td style = \"text-align: left;\">2024-11-15</td></tr><tr><td style = \"text-align: right;\">&vellip;</td><td style = \"text-align: right;\">&vellip;</td><td style = \"text-align: right;\">&vellip;</td><td style = \"text-align: right;\">&vellip;</td><td style = \"text-align: right;\">&vellip;</td><td style = \"text-align: right;\">&vellip;</td><td style = \"text-align: right;\">&vellip;</td><td style = \"text-align: right;\">&vellip;</td><td style = \"text-align: right;\">&vellip;</td></tr><tr><td class = \"rowNumber\" style = \"font-weight: bold; text-align: right;\">10562</td><td style = \"text-align: right;\">736011</td><td style = \"text-align: left;\">The Jackbox Survey Scramble</td><td style = \"text-align: left;\">PS4</td><td style = \"text-align: left;\">[&apos;Jackbox Games&apos;]</td><td style = \"text-align: left;\">[&apos;Jackbox Games&apos;]</td><td style = \"text-align: left;\">[&apos;Party&apos;]</td><td style = \"text-align: left;\">[&apos;French&apos;, &apos;Spanish&apos;, &apos;German&apos;, &apos;Italian&apos;, &apos;Portuguese (Brazil)&apos;, &apos;Spanish (Mexico)&apos;]</td><td style = \"text-align: left;\">2024-10-24</td></tr><tr><td class = \"rowNumber\" style = \"font-weight: bold; text-align: right;\">10563</td><td style = \"text-align: right;\">734440</td><td style = \"text-align: left;\">Romancing SaGa 2: Revenge of the Seven</td><td style = \"text-align: left;\">PS5</td><td style = \"text-align: left;\">[&apos;Square Enix&apos;, &apos;Xeen&apos;]</td><td style = \"text-align: left;\">[&apos;Square Enix&apos;]</td><td style = \"text-align: left;\">[&apos;Role Playing&apos;, &apos;Turn Based&apos;]</td><td style = \"text-align: left;\">[&apos;Japanese&apos;, &apos;French&apos;, &apos;Spanish&apos;, &apos;German&apos;, &apos;Korean&apos;, &apos;Chinese (traditional)&apos;, &apos;Chinese (simplified)&apos;]</td><td style = \"text-align: left;\">2024-10-24</td></tr><tr><td class = \"rowNumber\" style = \"font-weight: bold; text-align: right;\">10564</td><td style = \"text-align: right;\">734214</td><td style = \"text-align: left;\">Micro Mages</td><td style = \"text-align: left;\">PS4</td><td style = \"text-align: left;\">[&apos;Implicit Conversions&apos;, &apos;Morphcat Games&apos;]</td><td style = \"text-align: left;\">[&apos;Implicit Conversions&apos;]</td><td style = \"text-align: left;\">[&apos;Platformer&apos;]</td><td style = \"text-align: left;\">[&apos;French&apos;]</td><td style = \"text-align: left;\">2024-10-23</td></tr><tr><td class = \"rowNumber\" style = \"font-weight: bold; text-align: right;\">10565</td><td style = \"text-align: right;\">722422</td><td style = \"text-align: left;\">Nick Jr. Party Adventure</td><td style = \"text-align: left;\">PS4</td><td style = \"text-align: left;\">[&apos;Melbot Studios&apos;]</td><td style = \"text-align: left;\">[&apos;Outright Games&apos;]</td><td style = \"text-align: left;\">[&apos;Puzzle&apos;, &apos;Platformer&apos;]</td><td style = \"text-align: left;\">[&apos;Japanese&apos;, &apos;French&apos;, &apos;Spanish&apos;, &apos;German&apos;, &apos;Italian&apos;, &apos;Dutch&apos;, &apos;Chinese (traditional)&apos;, &apos;Finnish&apos;, &apos;Swedish&apos;, &apos;Danish&apos;, &apos;Norway&apos;, &apos;Polish&apos;, &apos;Portuguese (Brazil)&apos;, &apos;Spanish (Mexico)&apos;, &apos;Arabic&apos;]</td><td style = \"text-align: left;\">2024-10-11</td></tr><tr><td class = \"rowNumber\" style = \"font-weight: bold; text-align: right;\">10566</td><td style = \"text-align: right;\">715840</td><td style = \"text-align: left;\">Path to Purge</td><td style = \"text-align: left;\">PS5</td><td style = \"text-align: left;\">[&apos;Happy Player&apos;]</td><td style = \"text-align: left;\">[&apos;Happy Player&apos;]</td><td style = \"text-align: left;\">[&apos;Roguelite&apos;]</td><td style = \"text-align: left;\">[&apos;Japanese&apos;, &apos;Korean&apos;, &apos;Chinese (traditional)&apos;, &apos;Chinese (simplified)&apos;]</td><td style = \"text-align: left;\">2024-09-30</td></tr><tr><td class = \"rowNumber\" style = \"font-weight: bold; text-align: right;\">10567</td><td style = \"text-align: right;\">706550</td><td style = \"text-align: left;\">The Plucky Squire</td><td style = \"text-align: left;\">PS5</td><td style = \"text-align: left;\">[&apos;All Possible Futures&apos;]</td><td style = \"text-align: left;\">[&apos;Devolver Digital&apos;]</td><td style = \"text-align: left;\">[&apos;Action-Adventure&apos;]</td><td style = \"text-align: left;\">[&apos;Japanese&apos;, &apos;French&apos;, &apos;Spanish&apos;, &apos;German&apos;, &apos;Russian&apos;, &apos;Korean&apos;, &apos;Chinese (traditional)&apos;, &apos;Chinese (simplified)&apos;, &apos;Portuguese (Brazil)&apos;]</td><td style = \"text-align: left;\">2024-09-17</td></tr><tr><td class = \"rowNumber\" style = \"font-weight: bold; text-align: right;\">10568</td><td style = \"text-align: right;\">706369</td><td style = \"text-align: left;\">Snow Scout</td><td style = \"text-align: left;\">PS5</td><td style = \"text-align: left;\">[&apos;Tunermaxx Media&apos;]</td><td style = \"text-align: left;\">[&apos;Tunermaxx Media&apos;]</td><td style = \"text-align: left;\">[&apos;Adventure&apos;, &apos;Sports&apos;, &apos;Skiing&apos;]</td><td style = \"text-align: left;\">[&apos;French&apos;, &apos;Spanish&apos;, &apos;German&apos;, &apos;Italian&apos;]</td><td style = \"text-align: left;\">2024-09-12</td></tr><tr><td class = \"rowNumber\" style = \"font-weight: bold; text-align: right;\">10569</td><td style = \"text-align: right;\">706230</td><td style = \"text-align: left;\">Train Sim World 5: Set 1</td><td style = \"text-align: left;\">PS4</td><td style = \"text-align: left;\">[&apos;Dovetail Games&apos;, &apos;Just Trains&apos;, &apos;TSG&apos;, &apos;Alan Thomson Simulation&apos;, &apos;Incredible Trains&apos;]</td><td style = \"text-align: left;\">[&apos;Dovetail Games&apos;]</td><td style = \"text-align: left;\">[&apos;Simulation&apos;]</td><td style = \"text-align: left;\">[&apos;French&apos;, &apos;Spanish&apos;, &apos;German&apos;, &apos;Italian&apos;, &apos;Russian&apos;, &apos;Chinese (simplified)&apos;, &apos;Polish&apos;]</td><td style = \"text-align: left;\">2024-09-17</td></tr><tr><td class = \"rowNumber\" style = \"font-weight: bold; text-align: right;\">10570</td><td style = \"text-align: right;\">706007</td><td style = \"text-align: left;\">Yars Rising</td><td style = \"text-align: left;\">PS5</td><td style = \"text-align: left;\">[&apos;WayForward Technologies&apos;]</td><td style = \"text-align: left;\">[&apos;Atari&apos;]</td><td style = \"text-align: left;\">[&apos;Metroidvania&apos;, &apos;Platformer&apos;]</td><td style = \"text-align: left;\">[&apos;Japanese&apos;, &apos;French&apos;, &apos;Spanish&apos;, &apos;German&apos;, &apos;Italian&apos;, &apos;French (Canada)&apos;]</td><td style = \"text-align: left;\">2024-09-10</td></tr><tr><td class = \"rowNumber\" style = \"font-weight: bold; text-align: right;\">10571</td><td style = \"text-align: right;\">670801</td><td style = \"text-align: left;\">The Dragoness: Command of the Flame</td><td style = \"text-align: left;\">PS4</td><td style = \"text-align: left;\">[&apos;Crazy Goat Games&apos;]</td><td style = \"text-align: left;\">[&apos;PQube&apos;, &apos;Oizumi Amuzio&apos;]</td><td style = \"text-align: left;\">[&apos;Role Playing&apos;, &apos;Strategy&apos;, &apos;Turn Based&apos;]</td><td style = \"text-align: left;\">[&apos;Japanese&apos;, &apos;French&apos;, &apos;Spanish&apos;, &apos;German&apos;, &apos;Russian&apos;, &apos;Chinese (simplified)&apos;, &apos;Polish&apos;]</td><td style = \"text-align: left;\">2023-08-10</td></tr><tr><td class = \"rowNumber\" style = \"font-weight: bold; text-align: right;\">10572</td><td style = \"text-align: right;\">588809</td><td style = \"text-align: left;\">The Dragoness: Command of the Flame</td><td style = \"text-align: left;\">PS4</td><td style = \"text-align: left;\">[&apos;Crazy Goat Games&apos;]</td><td style = \"text-align: left;\">[&apos;PQube&apos;, &apos;Oizumi Amuzio&apos;]</td><td style = \"text-align: left;\">[&apos;Role Playing&apos;, &apos;Strategy&apos;, &apos;Turn Based&apos;]</td><td style = \"text-align: left;\">[&apos;French&apos;, &apos;Spanish&apos;, &apos;German&apos;, &apos;Russian&apos;, &apos;Chinese (simplified)&apos;, &apos;Polish&apos;]</td><td style = \"text-align: left;\">2023-08-10</td></tr><tr><td class = \"rowNumber\" style = \"font-weight: bold; text-align: right;\">10573</td><td style = \"text-align: right;\">573296</td><td style = \"text-align: left;\">Naiad</td><td style = \"text-align: left;\">PS5</td><td style = \"text-align: left;\">[&apos;HiWarp&apos;]</td><td style = \"text-align: left;\">[&apos;HiWarp&apos;]</td><td style = \"text-align: left;\">[&apos;Adventure&apos;]</td><td style = \"text-align: left;\">[&apos;Spanish&apos;]</td><td style = \"text-align: left;\">2024-12-10</td></tr></tbody></table></div>"
      ],
      "text/latex": [
       "\\begin{tabular}{r|ccccc}\n",
       "\t& gameid & title & platform & developers & \\\\\n",
       "\t\\hline\n",
       "\t& Int64 & String & String7 & String? & \\\\\n",
       "\t\\hline\n",
       "\t1 & 745453 & Neo Harbor Rescue Squad & PS4 & ['BancyCo'] & $\\dots$ \\\\\n",
       "\t2 & 749302 & Slave Zero X & PS4 & ['Poppy Works'] & $\\dots$ \\\\\n",
       "\t3 & 746253 & Check and Slash & PS5 & ['Gate of Madness'] & $\\dots$ \\\\\n",
       "\t4 & 746144 & VED & PS5 & ['Karaclan Studio'] & $\\dots$ \\\\\n",
       "\t5 & 744643 & Tetris Forever & PS4 & ['Digital Eclipse'] & $\\dots$ \\\\\n",
       "\t6 & 747989 & Irem Collection Volume 2 & PS4 & ['Tozai Games', 'Irem'] & $\\dots$ \\\\\n",
       "\t7 & 747908 & Uncle Chop's Rocket Shop & PS5 & ['Beard Envy'] & $\\dots$ \\\\\n",
       "\t8 & 747303 & Xuan Yuan Sword: The Gate of Firmament & PS5 & ['SOFTSTAR Entertainment', 'eastasiasoft'] & $\\dots$ \\\\\n",
       "\t9 & 747484 & Anomaly Agent & PS4 & ['Phew Phew Games'] & $\\dots$ \\\\\n",
       "\t10 & 747001 & Check and Slash & PS4 & ['Gate of Madness'] & $\\dots$ \\\\\n",
       "\t11 & 746998 & Check and Slash & PS4 & ['Gate of Madness'] & $\\dots$ \\\\\n",
       "\t12 & 746946 & Cuisineer & PS5 & ['BattleBrew Productions'] & $\\dots$ \\\\\n",
       "\t13 & 746358 & Check and Slash & PS4 & ['Gate of Madness'] & $\\dots$ \\\\\n",
       "\t14 & 748156 & Lorelei and the Laser Eyes & PS5 & ['Simogo'] & $\\dots$ \\\\\n",
       "\t15 & 743248 & Dream Town Island & PS4 & ['Kairosoft'] & $\\dots$ \\\\\n",
       "\t16 & 742853 & Techtonica & PS5 & ['Fire Hose Games'] & $\\dots$ \\\\\n",
       "\t17 & 742701 & ROUNDS & PS4 & ['Friendly Foe', 'Landfall Games'] & $\\dots$ \\\\\n",
       "\t18 & 742700 & ROUNDS & PS5 & ['Friendly Foe', 'Landfall Games'] & $\\dots$ \\\\\n",
       "\t19 & 739387 & Journey to Kreisia & PS5 & ['EXE-CREATE'] & $\\dots$ \\\\\n",
       "\t20 & 738616 & Raiden NOVA & PS5 & ['MOSS'] & $\\dots$ \\\\\n",
       "\t21 & 738901 & CAFE 0 \\textasciitilde{}The Sleeping Beast\\textasciitilde{} REMASTERED & PS5 & ['ROSEVERTE'] & $\\dots$ \\\\\n",
       "\t22 & 735552 & Besiege & PS5 & ['Spiderling Studios'] & $\\dots$ \\\\\n",
       "\t23 & 735510 & Smoothcade & PS5 & ['2Awesome Studio'] & $\\dots$ \\\\\n",
       "\t24 & 735509 & Smoothcade & PS4 & ['2Awesome Studio'] & $\\dots$ \\\\\n",
       "\t$\\dots$ & $\\dots$ & $\\dots$ & $\\dots$ & $\\dots$ &  \\\\\n",
       "\\end{tabular}\n"
      ],
      "text/plain": [
       "\u001b[1m10573×8 DataFrame\u001b[0m\n",
       "\u001b[1m   Row \u001b[0m│\u001b[1m gameid \u001b[0m\u001b[1m title                             \u001b[0m\u001b[1m platform \u001b[0m\u001b[1m developers      \u001b[0m ⋯\n",
       "       │\u001b[90m Int64  \u001b[0m\u001b[90m String                            \u001b[0m\u001b[90m String7  \u001b[0m\u001b[90m String?         \u001b[0m ⋯\n",
       "───────┼────────────────────────────────────────────────────────────────────────\n",
       "     1 │ 745453  Neo Harbor Rescue Squad            PS4       ['BancyCo']      ⋯\n",
       "     2 │ 749302  Slave Zero X                       PS4       ['Poppy Works']\n",
       "     3 │ 746253  Check and Slash                    PS5       ['Gate of Madnes\n",
       "     4 │ 746144  VED                                PS5       ['Karaclan Studi\n",
       "     5 │ 744643  Tetris Forever                     PS4       ['Digital Eclips ⋯\n",
       "     6 │ 747989  Irem Collection Volume 2           PS4       ['Tozai Games',\n",
       "     7 │ 747908  Uncle Chop's Rocket Shop           PS5       ['Beard Envy']\n",
       "     8 │ 747303  Xuan Yuan Sword: The Gate of Fir…  PS5       ['SOFTSTAR Enter\n",
       "   ⋮   │   ⋮                     ⋮                     ⋮                       ⋱\n",
       " 10567 │ 706550  The Plucky Squire                  PS5       ['All Possible F ⋯\n",
       " 10568 │ 706369  Snow Scout                         PS5       ['Tunermaxx Medi\n",
       " 10569 │ 706230  Train Sim World 5: Set 1           PS4       ['Dovetail Games\n",
       " 10570 │ 706007  Yars Rising                        PS5       ['WayForward Tec\n",
       " 10571 │ 670801  The Dragoness: Command of the Fl…  PS4       ['Crazy Goat Gam ⋯\n",
       " 10572 │ 588809  The Dragoness: Command of the Fl…  PS4       ['Crazy Goat Gam\n",
       " 10573 │ 573296  Naiad                              PS5       ['HiWarp']\n",
       "\u001b[36m                                                5 columns and 10558 rows omitted\u001b[0m"
      ]
     },
     "metadata": {},
     "output_type": "display_data"
    }
   ],
   "source": [
    "# supported_languages remove nans rows\n",
    "games_csv = games_csv[completecases(games_csv), :]"
   ]
  },
  {
   "cell_type": "code",
   "execution_count": null,
   "metadata": {},
   "outputs": [],
   "source": []
  }
 ],
 "metadata": {
  "kernelspec": {
   "display_name": "Julia 1.11.0-rc3",
   "language": "julia",
   "name": "julia-1.11"
  },
  "language_info": {
   "file_extension": ".jl",
   "mimetype": "application/julia",
   "name": "julia",
   "version": "1.11.0-rc3"
  }
 },
 "nbformat": 4,
 "nbformat_minor": 2
}
